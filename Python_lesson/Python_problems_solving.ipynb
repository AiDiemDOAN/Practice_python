{
 "cells": [
  {
   "cell_type": "markdown",
   "metadata": {},
   "source": [
    " Question 1: Write a python program to print Prime Numbers betwen 10 and 100"
   ]
  },
  {
   "cell_type": "code",
   "execution_count": 2,
   "metadata": {},
   "outputs": [
    {
     "name": "stdout",
     "output_type": "stream",
     "text": [
      "11\n",
      "13\n",
      "17\n",
      "19\n",
      "23\n",
      "29\n",
      "31\n",
      "37\n",
      "41\n",
      "43\n",
      "47\n",
      "53\n",
      "59\n",
      "61\n",
      "67\n",
      "71\n",
      "73\n",
      "79\n",
      "83\n",
      "89\n",
      "97\n"
     ]
    }
   ],
   "source": [
    "for num in range(10,100):\n",
    "    if all(num%i !=0 for i in range(2,num)):\n",
    "        print(num)"
   ]
  },
  {
   "cell_type": "markdown",
   "metadata": {},
   "source": [
    "Question 2: Write a sort function to sort the elements in a list"
   ]
  },
  {
   "cell_type": "code",
   "execution_count": 4,
   "metadata": {},
   "outputs": [
    {
     "name": "stdout",
     "output_type": "stream",
     "text": [
      "[67, 56, 54, 23, 23, 4]\n"
     ]
    }
   ],
   "source": [
    "lst=[23,4,54,56,23,67]\n",
    "# lst.sort()\n",
    "lst.sort(reverse=True)\n",
    "print(lst)\n"
   ]
  },
  {
   "cell_type": "markdown",
   "metadata": {},
   "source": [
    "Question 3: Write a sorting fuction without using the list.sort function"
   ]
  },
  {
   "cell_type": "code",
   "execution_count": 10,
   "metadata": {},
   "outputs": [
    {
     "name": "stdout",
     "output_type": "stream",
     "text": [
      "[67, 56, 54, 23, 23, 4]\n"
     ]
    }
   ],
   "source": [
    "\n",
    "lst=[23,4,54,56,23,67]\n",
    "new_lst=[]\n",
    "\n",
    "while lst:\n",
    "    minimum=lst[0]\n",
    "    for i in lst:\n",
    "        if i> minimum:\n",
    "            minimum = i\n",
    "    new_lst.append(minimum)\n",
    "    lst.remove(minimum)\n",
    "print(new_lst)\n"
   ]
  },
  {
   "cell_type": "markdown",
   "metadata": {},
   "source": [
    "Question 4: Write a python program to print Fibonacci Series"
   ]
  },
  {
   "cell_type": "code",
   "execution_count": 13,
   "metadata": {},
   "outputs": [
    {
     "name": "stdout",
     "output_type": "stream",
     "text": [
      "0\n",
      "1\n",
      "1\n",
      "2\n",
      "3\n",
      "5\n",
      "8\n",
      "13\n",
      "21\n"
     ]
    }
   ],
   "source": [
    "def F(n):\n",
    "    if n==0: return 0\n",
    "    elif n==1: return 1\n",
    "    else: return F(n-1)+F(n-2)\n",
    "for i in range(0,9):\n",
    "    print(F(i))\n"
   ]
  },
  {
   "cell_type": "markdown",
   "metadata": {},
   "source": [
    "Question 5: Write a Python program to check whether a string is a Palindrome or not"
   ]
  },
  {
   "cell_type": "code",
   "execution_count": 18,
   "metadata": {},
   "outputs": [
    {
     "data": {
      "text/plain": [
       "True"
      ]
     },
     "execution_count": 18,
     "metadata": {},
     "output_type": "execute_result"
    }
   ],
   "source": [
    "def IsPalindrome(s):\n",
    "    # Reverse the string\n",
    "    rev = ''.join(reversed(s))\n",
    "    # Check if the initial string and the reversed one are equal or not\n",
    "    if (s==rev):\n",
    "        return True\n",
    "    return False\n",
    "#Run the example\n",
    "IsPalindrome(\"appa\")"
   ]
  },
  {
   "cell_type": "markdown",
   "metadata": {},
   "source": [
    "Question 6: Write a Python Program to print set of duplicates in a list"
   ]
  },
  {
   "cell_type": "code",
   "execution_count": 19,
   "metadata": {},
   "outputs": [
    {
     "name": "stdout",
     "output_type": "stream",
     "text": [
      "{1, 2, 45}\n"
     ]
    }
   ],
   "source": [
    "lst = [1, 2, 45, 2, 1, 45, 6, 78]\n",
    "print(set([i for i in lst if lst.count(i)>1]))"
   ]
  },
  {
   "cell_type": "markdown",
   "metadata": {},
   "source": [
    "Question 7: Write a python program to print number of words in a given sentence"
   ]
  },
  {
   "cell_type": "code",
   "execution_count": 20,
   "metadata": {},
   "outputs": [
    {
     "name": "stdout",
     "output_type": "stream",
     "text": [
      "5\n"
     ]
    }
   ],
   "source": [
    "str='This is my first example.'\n",
    "print(len(str.split()))\n"
   ]
  },
  {
   "cell_type": "markdown",
   "metadata": {},
   "source": [
    "Question 8: Given an array arr[] of n elements, write a Python function to search a given element x in arr[] or not"
   ]
  },
  {
   "cell_type": "code",
   "execution_count": 22,
   "metadata": {},
   "outputs": [
    {
     "name": "stdout",
     "output_type": "stream",
     "text": [
      "Not exist in the list\n"
     ]
    }
   ],
   "source": [
    "def search(lst,x):\n",
    "    for i in range (len(lst)):\n",
    "        if lst[i] ==x:\n",
    "            return i\n",
    "    print ('Not exist in the list')\n",
    "#Example to test the function\n",
    "lst=[2, 3, 45, 56, 3, 45, 3]\n",
    "search(lst,1)"
   ]
  },
  {
   "cell_type": "markdown",
   "metadata": {},
   "source": [
    "Question 9: Write a Python Program to implement a Binary Search"
   ]
  },
  {
   "cell_type": "code",
   "execution_count": 26,
   "metadata": {},
   "outputs": [
    {
     "data": {
      "text/plain": [
       "1"
      ]
     },
     "execution_count": 26,
     "metadata": {},
     "output_type": "execute_result"
    }
   ],
   "source": [
    "def Binary_Search(arr,target):\n",
    "    lower = 0\n",
    "    upper = len(arr)\n",
    "    while lower < upper: \n",
    "        x = lower + (upper - lower)//2\n",
    "        val=arr[x]\n",
    "        if target==val:\n",
    "            return x\n",
    "        elif target > val:\n",
    "            if lower == x:\n",
    "                break\n",
    "            lower = x\n",
    "        elif target < val:\n",
    "            upper = x\n",
    "#Example to test function\n",
    "Binary_Search(lst,3)        "
   ]
  },
  {
   "cell_type": "markdown",
   "metadata": {},
   "source": [
    "Question 10: Write a Python program to extract digits from given string"
   ]
  },
  {
   "cell_type": "code",
   "execution_count": 27,
   "metadata": {},
   "outputs": [
    {
     "name": "stdout",
     "output_type": "stream",
     "text": [
      "1245670\n"
     ]
    }
   ],
   "source": [
    "str = \"12wk45jda67ja0\"\n",
    "num_ex=''.join(filter(lambda i: i.isdigit(),str))\n",
    "print(num_ex)"
   ]
  },
  {
   "cell_type": "markdown",
   "metadata": {},
   "source": [
    "Question 11: Split strings using newline delimiter"
   ]
  },
  {
   "cell_type": "code",
   "execution_count": 30,
   "metadata": {},
   "outputs": [
    {
     "name": "stdout",
     "output_type": "stream",
     "text": [
      "['This', 'is', 'an', 'example', 'string']\n"
     ]
    }
   ],
   "source": [
    "str=\"This is an example string\"\n",
    "str_spl=(str.rstrip().split(' '))\n",
    "print(str_spl)\n"
   ]
  }
 ],
 "metadata": {
  "kernelspec": {
   "display_name": "Python 3.10.6 64-bit",
   "language": "python",
   "name": "python3"
  },
  "language_info": {
   "codemirror_mode": {
    "name": "ipython",
    "version": 3
   },
   "file_extension": ".py",
   "mimetype": "text/x-python",
   "name": "python",
   "nbconvert_exporter": "python",
   "pygments_lexer": "ipython3",
   "version": "3.10.6"
  },
  "orig_nbformat": 4,
  "vscode": {
   "interpreter": {
    "hash": "48d107ed243911d9a35171b4e36bb0b9e25ee6679212c9b05992c9669e144eea"
   }
  }
 },
 "nbformat": 4,
 "nbformat_minor": 2
}
